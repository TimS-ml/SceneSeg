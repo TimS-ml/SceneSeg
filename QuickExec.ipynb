{
  "nbformat": 4,
  "nbformat_minor": 0,
  "metadata": {
    "colab": {
      "name": "QuickExec.ipynb",
      "provenance": [],
      "collapsed_sections": [],
      "toc_visible": true,
      "machine_shape": "hm"
    },
    "jupytext": {
      "formats": "ipynb,py:percent"
    },
    "kernelspec": {
      "display_name": "Python 3",
      "language": "python",
      "name": "python3"
    },
    "language_info": {
      "codemirror_mode": {
        "name": "ipython",
        "version": 3
      },
      "file_extension": ".py",
      "mimetype": "text/x-python",
      "name": "python",
      "nbconvert_exporter": "python",
      "pygments_lexer": "ipython3",
      "version": "3.7.10"
    },
    "accelerator": "GPU"
  },
  "cells": [
    {
      "cell_type": "code",
      "metadata": {
        "id": "Go0pyWaUg3dc"
      },
      "source": [
        "# %xmode Verbose\n",
        "%xmode Plain"
      ],
      "execution_count": null,
      "outputs": []
    },
    {
      "cell_type": "code",
      "metadata": {
        "colab": {
          "base_uri": "https://localhost:8080/"
        },
        "id": "6HZw9tQWEaw7",
        "outputId": "5e5a26c9-5ef7-4275-9b7a-dcec23f55810"
      },
      "source": [
        "import os\n",
        "\n",
        "try:\n",
        "    from google.colab import drive\n",
        "    drive.mount('/content/drive', force_remount=True)\n",
        "    os.chdir('/content/drive/My Drive/Project/TakeHome/Eluvio/')  # Google drive path here\n",
        "    print('Env: colab, run colab init')\n",
        "    isColab = True\n",
        "except:\n",
        "    os.chdir('.')\n",
        "    cwd = os.getcwd()\n",
        "    print('Env: local')\n",
        "    isColab = False"
      ],
      "execution_count": null,
      "outputs": [
        {
          "output_type": "stream",
          "text": [
            "Mounted at /content/drive\n",
            "Env: colab, run colab init\n"
          ],
          "name": "stdout"
        }
      ]
    },
    {
      "cell_type": "code",
      "metadata": {
        "id": "j7zJDyGaEaw8"
      },
      "source": [
        "# install packages and refresh dirs\n",
        "if isColab:\n",
        "    !pip install mmcv\n",
        "    !pip install tensorboardX\n",
        "    # !pip install transformers\n",
        "    # !nvidia-smi\n",
        "    # !mkdir checkpoints\n",
        "    # !mkdir log\n",
        "    # !google-drive-ocamlfuse -cc\n",
        "    !ls"
      ],
      "execution_count": null,
      "outputs": []
    },
    {
      "cell_type": "markdown",
      "metadata": {
        "id": "CLILNjovcxKq"
      },
      "source": [
        "# Model"
      ]
    },
    {
      "cell_type": "code",
      "metadata": {
        "id": "KUPqWp9VVBKC"
      },
      "source": [
        "%run train.py './config/train_all.py'"
      ],
      "execution_count": null,
      "outputs": []
    },
    {
      "cell_type": "code",
      "metadata": {
        "id": "LrzU71IxZHLC"
      },
      "source": [
        "# %whos"
      ],
      "execution_count": null,
      "outputs": []
    }
  ]
}